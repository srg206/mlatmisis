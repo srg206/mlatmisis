{
  "cells": [
    {
      "cell_type": "markdown",
      "metadata": {
        "id": "vwfdn2XNj7TM"
      },
      "source": [
        "# Домашнее задание 1"
      ]
    },
    {
      "cell_type": "code",
      "execution_count": 27,
      "metadata": {
        "id": "_Bb_c2mKj7TQ"
      },
      "outputs": [],
      "source": [
        "import numpy as np\n",
        "import pandas as pd\n",
        "import matplotlib.pyplot as plt"
      ]
    },
    {
      "cell_type": "markdown",
      "metadata": {
        "id": "PoOWei1cj7TR"
      },
      "source": [
        "## Numpy"
      ]
    },
    {
      "cell_type": "markdown",
      "metadata": {
        "id": "f6Fy5TBxj7TS"
      },
      "source": [
        "### Создайте двумерный массив 5x5 с 1 на границе и 0 внутри."
      ]
    },
    {
      "cell_type": "code",
      "execution_count": 28,
      "metadata": {
        "id": "-jqai3FEj7TT"
      },
      "outputs": [],
      "source": [
        "def border():\n",
        "    a = np.ones((5, 5))\n",
        "    a[1:-1, 1:-1] = 0\n",
        "    return a"
      ]
    },
    {
      "cell_type": "markdown",
      "metadata": {
        "id": "T3bgwSgsj7TU"
      },
      "source": [
        "### Создайте матрицу 8x8 и заполните ее шахматным узором."
      ]
    },
    {
      "cell_type": "code",
      "execution_count": null,
      "metadata": {
        "id": "aIRWyoLRj7TV"
      },
      "outputs": [],
      "source": [
        "def checkerboard():\n",
        "    a = np.zeros((8, 8), dtype=int)\n",
        "    a[::2, ::2] = 1  \n",
        "    a[1::2, 1::2] = 1\n",
        "    return a"
      ]
    },
    {
      "cell_type": "markdown",
      "metadata": {
        "id": "r3zo-syZj7TW"
      },
      "source": [
        "### Вычтите из каждой строки матрицы среднее этой строки"
      ]
    },
    {
      "cell_type": "code",
      "execution_count": 30,
      "metadata": {
        "id": "R_ctOjbnj7TW"
      },
      "outputs": [],
      "source": [
        "def sub():\n",
        "    a = np.array([\n",
        "      [1, 2, 3],\n",
        "      [3, 4, 5],\n",
        "      [6, 7, 8]\n",
        "    ])\n",
        "    row_means = a.mean(axis=1, keepdims=True)\n",
        "    a = a - row_means\n",
        "    return a"
      ]
    },
    {
      "cell_type": "markdown",
      "metadata": {
        "id": "4fG-sZxYj7TX"
      },
      "source": [
        "### Как отсортировать матрицу по последней строке?"
      ]
    },
    {
      "cell_type": "code",
      "execution_count": 31,
      "metadata": {
        "id": "G_OZ33FSj7TY"
      },
      "outputs": [],
      "source": [
        "def sort():\n",
        "    a = np.array([\n",
        "        [1, 2, 3],\n",
        "        [3, 4, 5],\n",
        "        [6, 7, 8]\n",
        "    ])\n",
        "    a = a[:, a[-1, :].argsort()]\n",
        "    return a"
      ]
    },
    {
      "cell_type": "markdown",
      "metadata": {
        "id": "EUrZbDsyj7TZ"
      },
      "source": [
        "## Pandas"
      ]
    },
    {
      "cell_type": "code",
      "execution_count": 32,
      "metadata": {
        "id": "3RFKp_IUj7TZ"
      },
      "outputs": [],
      "source": [
        "data = {'animal': ['cat', 'cat', 'snake', 'dog', 'dog', 'cat', 'snake', 'cat', 'dog', 'dog'],\n",
        "        'age': [2.5, 3, 0.5, np.nan, 5, 2, 4.5, np.nan, 7, 3],\n",
        "        'visits': [1, 3, 2, 3, 2, 3, 1, 1, 2, 1],\n",
        "        'priority': ['yes', 'yes', 'no', 'yes', 'no', 'no', 'no', 'yes', 'no', 'no']}\n",
        "\n",
        "labels = ['a', 'b', 'c', 'd', 'e', 'f', 'g', 'h', 'i', 'j']\n",
        "\n",
        "df = pd.DataFrame(data, index=labels)"
      ]
    },
    {
      "cell_type": "markdown",
      "metadata": {
        "id": "4QeYNxdLj7TZ"
      },
      "source": [
        "### Выберите данные в 3, 4, 5 строчке колонок `animal` и `age`"
      ]
    },
    {
      "cell_type": "code",
      "execution_count": 33,
      "metadata": {
        "id": "zNIMTPkrj7Ta"
      },
      "outputs": [],
      "source": [
        "def animal_age(df):\n",
        "    return df.iloc[2:5, [0, 1]]"
      ]
    },
    {
      "cell_type": "markdown",
      "metadata": {
        "id": "bo042TAuj7Ta"
      },
      "source": [
        "### Выберите строки, где животное является котом и возраст меньше 3"
      ]
    },
    {
      "cell_type": "code",
      "execution_count": 34,
      "metadata": {
        "id": "jXOFYlE5j7Ta"
      },
      "outputs": [],
      "source": [
        "def cats(df):\n",
        "    return df[(df['animal'] == 'cat') & (df['age'] < 3)]"
      ]
    },
    {
      "cell_type": "markdown",
      "metadata": {
        "id": "kAlpqi-Sj7Tc"
      },
      "source": [
        "### Для каждого типа животного и количества посещений найдите средний возраст. Другими словами, каждая строка - это животное, каждый столбец - количество посещений, а значения - средний возраст"
      ]
    },
    {
      "cell_type": "code",
      "execution_count": 35,
      "metadata": {
        "id": "l--KNMTPj7Tc"
      },
      "outputs": [],
      "source": [
        "def mean_table(df):\n",
        "    return df.pivot_table(values='age', index='animal', columns='visits', aggfunc='mean')"
      ]
    },
    {
      "cell_type": "markdown",
      "metadata": {
        "id": "wrpchDXuj7Tc"
      },
      "source": [
        "### DataFrame имеет столбец групп 'grps' и столбец целочисленных значений 'vals'. Для каждой группы найдите сумму трех наибольших значений."
      ]
    },
    {
      "cell_type": "code",
      "execution_count": 36,
      "metadata": {
        "id": "tokeCFH4j7Td"
      },
      "outputs": [],
      "source": [
        "def threesome():\n",
        "    data = {\n",
        "        \"grps\": [\"a\", \"a\", \"a\", \"a\", \"b\", \"b\", \"b\", \"b\"],\n",
        "        \"vals\": [100, 200, 109, 50, 23, 100, 33, 67],\n",
        "    }\n",
        "    df = pd.DataFrame(data)\n",
        "    result = df.groupby(\"grps\")[\"vals\"].apply(lambda x: x.nlargest(3).sum())\n",
        "    return result"
      ]
    },
    {
      "cell_type": "markdown",
      "metadata": {
        "id": "n1bKnaX2j7Td"
      },
      "source": [
        "## Matplotlib\n",
        "\n",
        "Тут сложно написать тесты, так что надеюсь на вашу честность. Поставьте `True`, если вы сделали задание"
      ]
    },
    {
      "cell_type": "markdown",
      "metadata": {
        "id": "xnOPfVUYj7Td"
      },
      "source": [
        "### Нарисуйте пару смешных графиков для `df` (который с животными)\n",
        "Это не дз по датавизу, если хотите - можем сделать такую пару"
      ]
    },
    {
      "cell_type": "code",
      "execution_count": null,
      "metadata": {
        "colab": {
          "base_uri": "https://localhost:8080/",
          "height": 919
        },
        "id": "mzahHKvEj7Te",
        "outputId": "3a6e638c-0030-44b7-fabd-32dd826d7ad3"
      },
      "outputs": [
        {
          "data": {
            "image/png": "[encoded data removed]",
            "text/plain": [
              "<Figure size 640x480 with 1 Axes>"
            ]
          },
          "metadata": {},
          "output_type": "display_data"
        },
        {
          "data": {
            "image/png": "[encoded data removed]",
            "text/plain": [
              "<Figure size 640x480 with 1 Axes>"
            ]
          },
          "metadata": {},
          "output_type": "display_data"
        },
        {
          "data": {
            "text/plain": [
              "True"
            ]
          },
          "execution_count": 37,
          "metadata": {},
          "output_type": "execute_result"
        }
      ],
      "source": [
        "def plots():\n",
        "    df['age'].plot(kind='hist')\n",
        "    plt.title('Распределение возраста животных')\n",
        "    plt.show()\n",
        "\n",
        "    df['visits'].value_counts().plot(kind='bar')\n",
        "    plt.title('Количество посещений')\n",
        "    plt.show()\n",
        "    return True"
      ]
    }
  ],
  "metadata": {
    "colab": {
      "provenance": []
    },
    "kernelspec": {
      "display_name": "Python 3",
      "language": "python",
      "name": "python3"
    },
    "language_info": {
      "codemirror_mode": {
        "name": "ipython",
        "version": 3
      },
      "file_extension": ".py",
      "mimetype": "text/x-python",
      "name": "python",
      "nbconvert_exporter": "python",
      "pygments_lexer": "ipython3",
      "version": "3.12.4"
    }
  },
  "nbformat": 4,
  "nbformat_minor": 0
}
